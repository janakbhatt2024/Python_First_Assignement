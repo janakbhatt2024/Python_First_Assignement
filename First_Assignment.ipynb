{
  "nbformat": 4,
  "nbformat_minor": 0,
  "metadata": {
    "colab": {
      "provenance": []
    },
    "kernelspec": {
      "name": "python3",
      "display_name": "Python 3"
    },
    "language_info": {
      "name": "python"
    }
  },
  "cells": [
    {
      "cell_type": "markdown",
      "source": [
        "Q1 Explain the key features of Python that make it a popular choice for programming.\n",
        "\n",
        "Answer:Readable and simple syntax, ideal for beginners and experienced developers. Versatile: Used in web development, data science, AI, automation, and more. Extensive standard library and large ecosystem of third-party packages. Strong community support and excellent integration with other technologies."
      ],
      "metadata": {
        "id": "7PQv2gCk8EDl"
      }
    },
    {
      "cell_type": "markdown",
      "source": [
        "Q2 Describe the role of predefined keywords in Python and provide examples of how they are used in a program.\n",
        "\n",
        "Answer: In Python, predefined keywords are special identifiers that have a predefined meaning in the language's syntax. These keywords cannot be used as variable names, function names, or identifiers because they are reserved for specific language constructs.Below are the examples of predefined keywords.\n",
        "\n",
        "Conditional statements\n",
        "For and While loop\n",
        "etc.\n",
        "\n",
        "\n",
        "\n",
        "\n",
        "\n",
        "\n"
      ],
      "metadata": {
        "id": "rbNqU9jr8Wct"
      }
    },
    {
      "cell_type": "markdown",
      "source": [
        "1. if, else, elif (Conditional Statements)"
      ],
      "metadata": {
        "id": "DsH7UNJl_Mbd"
      }
    },
    {
      "cell_type": "code",
      "source": [
        "x = 10\n",
        "if x > 0:\n",
        "    print(\"Positive\")\n",
        "elif x == 0:\n",
        "    print(\"Zero\")\n",
        "else:\n",
        "    print(\"Negative\")\n"
      ],
      "metadata": {
        "colab": {
          "base_uri": "https://localhost:8080/"
        },
        "id": "cD0Vqp0m-9bc",
        "outputId": "98f87a4f-4b30-427d-9753-819ced7ab42e"
      },
      "execution_count": 1,
      "outputs": [
        {
          "output_type": "stream",
          "name": "stdout",
          "text": [
            "Positive\n"
          ]
        }
      ]
    },
    {
      "cell_type": "markdown",
      "source": [
        "2. for, in (Looping)"
      ],
      "metadata": {
        "id": "OAbeWx14_7bv"
      }
    },
    {
      "cell_type": "code",
      "source": [
        "for i in range(5):\n",
        "    print(i)\n"
      ],
      "metadata": {
        "id": "71YqwWRD_5P6"
      },
      "execution_count": null,
      "outputs": []
    },
    {
      "cell_type": "markdown",
      "source": [
        "3. Print function"
      ],
      "metadata": {
        "id": "ePN-L6SuAGMi"
      }
    },
    {
      "cell_type": "code",
      "source": [
        "print(\"Hello world\")"
      ],
      "metadata": {
        "colab": {
          "base_uri": "https://localhost:8080/"
        },
        "id": "BDQA4JumALTh",
        "outputId": "94d2f772-70f7-4eae-f34c-6fbec4bfb0e4"
      },
      "execution_count": 2,
      "outputs": [
        {
          "output_type": "stream",
          "name": "stdout",
          "text": [
            "Hello world\n"
          ]
        }
      ]
    },
    {
      "cell_type": "markdown",
      "source": [
        "Q3. Compare and contrast mutable and immutable objects in Python with examples\n",
        "\n",
        "Answer : Mutable Objects:\n",
        "Definition: Objects whose state or value can be modified after they are created.\n",
        "\n",
        "Examples: Lists, dictionaries, sets.\n",
        "\n"
      ],
      "metadata": {
        "id": "ckdTyFb4ATDo"
      }
    },
    {
      "cell_type": "code",
      "source": [
        "my_list = [1, 2, 3]\n",
        "my_list[0] = 10  # Modifies the original list\n",
        "print(my_list)   # Output: [10, 2, 3]\n"
      ],
      "metadata": {
        "colab": {
          "base_uri": "https://localhost:8080/"
        },
        "id": "DoER0TAzBDY7",
        "outputId": "e7b4b61d-94e9-4f36-c83d-ffe093d196cb"
      },
      "execution_count": 3,
      "outputs": [
        {
          "output_type": "stream",
          "name": "stdout",
          "text": [
            "[10, 2, 3]\n"
          ]
        }
      ]
    },
    {
      "cell_type": "code",
      "source": [
        "my_set = {1, 2, 3, 4, 5}\n",
        "my_set.add(6)\n",
        "print(my_set)  # Output: {1, 2, 3, 4, 5, 6}"
      ],
      "metadata": {
        "colab": {
          "base_uri": "https://localhost:8080/"
        },
        "id": "asd9RFPQBiVu",
        "outputId": "838b6754-ce28-433b-e85a-3aa7f13200c4"
      },
      "execution_count": 5,
      "outputs": [
        {
          "output_type": "stream",
          "name": "stdout",
          "text": [
            "{1, 2, 3, 4, 5, 6}\n"
          ]
        }
      ]
    },
    {
      "cell_type": "code",
      "source": [
        "my_dict = {\n",
        "    \"name\": \"Abcd\",\n",
        "    \"age\": 45\n",
        "}\n",
        "my_dict[\"city\"] = \"New york\"\n",
        "print(my_dict) # it will add city in my_dict"
      ],
      "metadata": {
        "colab": {
          "base_uri": "https://localhost:8080/"
        },
        "id": "7Mub2jXbCSIY",
        "outputId": "76c744d9-ae26-4104-eaaf-f1f4c273bcc7"
      },
      "execution_count": 9,
      "outputs": [
        {
          "output_type": "stream",
          "name": "stdout",
          "text": [
            "{'name': 'Abcd', 'age': 45, 'city': 'New york'}\n"
          ]
        }
      ]
    },
    {
      "cell_type": "markdown",
      "source": [
        "Immutable Objects:\n",
        "Definition: Objects whose state or value cannot be changed after they are created.\n",
        "\n",
        "Examples: tuples\n",
        "\n"
      ],
      "metadata": {
        "id": "g8KbjjzZDSby"
      }
    },
    {
      "cell_type": "code",
      "source": [
        "my_tuple = (1, 2, 3, \"hello\", 5.5)\n",
        "print(my_tuple)"
      ],
      "metadata": {
        "colab": {
          "base_uri": "https://localhost:8080/"
        },
        "id": "7LXDpH-TDayY",
        "outputId": "5219d5f2-d94b-4601-f3f7-f87ed4da7217"
      },
      "execution_count": 11,
      "outputs": [
        {
          "output_type": "stream",
          "name": "stdout",
          "text": [
            "(1, 2, 3, 'hello', 5.5)\n"
          ]
        }
      ]
    },
    {
      "cell_type": "markdown",
      "source": [
        "Q4. Discuss the different types of operators in Python and provide examples of how they are used\n",
        "\n",
        "Answer:Arithmetic Operators: Perform basic math (e.g., +, -, *, /).\n",
        "Comparison Operators: Compare values (e.g., ==, >, <).\n",
        "Logical Operators: Combine conditions (e.g., and, or, not).\n",
        "Assignment Operators: Assign values to variables (e.g., =, +=).\n",
        "Identity Operators: Check if two objects are the same (e.g., is, is not).\n",
        "Membership Operators: Check membership in a sequence (e.g., in, not in).\n",
        "Bitwise Operators: Perform bit-level operations (e.g., &, |, ~"
      ],
      "metadata": {
        "id": "W0qTszohDxin"
      }
    },
    {
      "cell_type": "markdown",
      "source": [
        "1 Arithmatic Operator"
      ],
      "metadata": {
        "id": "mtjWqQffEy3W"
      }
    },
    {
      "cell_type": "code",
      "source": [
        "a = 1\n",
        "b = 2\n",
        "c = a+b\n",
        "print(c)"
      ],
      "metadata": {
        "colab": {
          "base_uri": "https://localhost:8080/"
        },
        "id": "yhNLS2fZEYa_",
        "outputId": "75400a2b-ab56-47ea-a1b4-3ea0a062547c"
      },
      "execution_count": 12,
      "outputs": [
        {
          "output_type": "stream",
          "name": "stdout",
          "text": [
            "3\n"
          ]
        }
      ]
    },
    {
      "cell_type": "markdown",
      "source": [
        "2 Comparision Operator"
      ],
      "metadata": {
        "id": "J1VQ8lffE3FE"
      }
    },
    {
      "cell_type": "code",
      "source": [
        "a = 3\n",
        "b = 2\n",
        "a > b"
      ],
      "metadata": {
        "colab": {
          "base_uri": "https://localhost:8080/"
        },
        "id": "YUl8KREZEjtF",
        "outputId": "4c991245-fec7-4171-ede3-44c5c18c8e1d"
      },
      "execution_count": 13,
      "outputs": [
        {
          "output_type": "execute_result",
          "data": {
            "text/plain": [
              "True"
            ]
          },
          "metadata": {},
          "execution_count": 13
        }
      ]
    },
    {
      "cell_type": "markdown",
      "source": [
        "3 Logical Operator"
      ],
      "metadata": {
        "id": "QlilwdSuE8Hw"
      }
    },
    {
      "cell_type": "code",
      "source": [
        "x = 10\n",
        "y = 5\n",
        "\n",
        "# Using 'and' logical operator\n",
        "if x > 0 and y > 0:\n",
        "    print(\"Both x and y are positive\")\n"
      ],
      "metadata": {
        "colab": {
          "base_uri": "https://localhost:8080/"
        },
        "id": "LeaNDqZdFDAs",
        "outputId": "d6bd34c3-3a01-478e-fb67-337d2572f2d0"
      },
      "execution_count": 14,
      "outputs": [
        {
          "output_type": "stream",
          "name": "stdout",
          "text": [
            "Both x and y are positive\n"
          ]
        }
      ]
    },
    {
      "cell_type": "markdown",
      "source": [
        "4 Assignment Operators"
      ],
      "metadata": {
        "id": "2Qws9nfVFW1b"
      }
    },
    {
      "cell_type": "code",
      "source": [
        "a = 2\n",
        "b = 3\n",
        "a += b\n",
        "a"
      ],
      "metadata": {
        "colab": {
          "base_uri": "https://localhost:8080/"
        },
        "id": "xESJS0uNFZAP",
        "outputId": "779c7a1f-81ff-4140-d88d-a7a63aeaa366"
      },
      "execution_count": 16,
      "outputs": [
        {
          "output_type": "execute_result",
          "data": {
            "text/plain": [
              "5"
            ]
          },
          "metadata": {},
          "execution_count": 16
        }
      ]
    },
    {
      "cell_type": "markdown",
      "source": [
        "5 Identity Operator\n"
      ],
      "metadata": {
        "id": "pv3r74GrFw_A"
      }
    },
    {
      "cell_type": "code",
      "source": [
        "a = 2\n",
        "b = 3\n",
        "a is b # Using \"is\" idenidentity operator"
      ],
      "metadata": {
        "colab": {
          "base_uri": "https://localhost:8080/"
        },
        "id": "Gm00NnwnF7AC",
        "outputId": "895aae76-9aed-4642-89c3-235c0a03c678"
      },
      "execution_count": 18,
      "outputs": [
        {
          "output_type": "execute_result",
          "data": {
            "text/plain": [
              "False"
            ]
          },
          "metadata": {},
          "execution_count": 18
        }
      ]
    },
    {
      "cell_type": "markdown",
      "source": [
        "6 Membership Operator"
      ],
      "metadata": {
        "id": "CjeOczTpGQGQ"
      }
    },
    {
      "cell_type": "code",
      "source": [
        "# List of numbers\n",
        "my_list = [1, 2, 3, 4, 5]\n",
        "\n",
        "# Using 'in' to check if a value is in the list\n",
        "if 3 in my_list:\n",
        "    print(\"3 is in the list\")\n",
        "\n",
        "# Using 'not in' to check if a value is NOT in the list\n",
        "if 6 not in my_list:\n",
        "    print(\"6 is not in the list\")\n"
      ],
      "metadata": {
        "colab": {
          "base_uri": "https://localhost:8080/"
        },
        "id": "uRtkxtcEGamO",
        "outputId": "86fa62ee-b994-4248-b9e9-bec651adaa4f"
      },
      "execution_count": 21,
      "outputs": [
        {
          "output_type": "stream",
          "name": "stdout",
          "text": [
            "3 is in the list\n",
            "6 is not in the list\n"
          ]
        }
      ]
    },
    {
      "cell_type": "markdown",
      "source": [
        "Bitwise Operators"
      ],
      "metadata": {
        "id": "cBdRPYx7HNzp"
      }
    },
    {
      "cell_type": "code",
      "source": [
        "a = 10  # In binary: 1010\n",
        "b = 4   # In binary: 0100\n",
        "\n",
        "# Bitwise AND (&)\n",
        "print(a & b)  # Output: 0 (1010 & 0100 = 0000)\n",
        "\n",
        "# Bitwise OR (|)\n",
        "print(a | b)  # Output: 14 (1010 | 0100 = 1110)\n",
        "\n",
        "# Bitwise XOR (^)\n",
        "print(a ^ b)  # Output: 14 (1010 ^ 0100 = 1110)\n",
        "\n",
        "# Bitwise NOT (~)\n",
        "print(~a)     # Output: -11 (bitwise NOT flips the bits, so ~1010 = ...11110101 which equals -11)\n",
        "\n",
        "# Left Shift (<<)\n",
        "print(a << 1)  # Output: 20 (1010 << 1 = 10100)\n",
        "\n",
        "# Right Shift (>>)\n",
        "print(a >> 1)  # Output: 5  (1010 >> 1 = 0101)"
      ],
      "metadata": {
        "colab": {
          "base_uri": "https://localhost:8080/"
        },
        "id": "b-Fl09o8HajS",
        "outputId": "de80a604-de79-4f06-bdfb-b702bd102d5b"
      },
      "execution_count": 23,
      "outputs": [
        {
          "output_type": "stream",
          "name": "stdout",
          "text": [
            "0\n",
            "14\n",
            "14\n",
            "-11\n",
            "20\n",
            "5\n"
          ]
        }
      ]
    },
    {
      "cell_type": "markdown",
      "source": [
        "Q5  Explain the concept of type casting in Python with examples\n",
        "\n",
        "Answer:Implicit type casting is automatic and happens when Python promotes data types (e.g., from int to float).\n",
        "Explicit type casting requires manual conversion and can be done using Python's built-in functions (int(), float(), str(), etc.)."
      ],
      "metadata": {
        "id": "_OUlK3aJH1vH"
      }
    },
    {
      "cell_type": "markdown",
      "source": [
        "1 Implicit type casting"
      ],
      "metadata": {
        "id": "k3D-90mqIyGi"
      }
    },
    {
      "cell_type": "code",
      "source": [
        "x = 5       # Integer\n",
        "y = 2.5     # Float\n",
        "\n",
        "# Implicit type casting (int to float)\n",
        "result = x + y\n",
        "print(result)  # Output: 7.5 (float)\n",
        "print(type(result))  # Output: <class 'float'>\n"
      ],
      "metadata": {
        "colab": {
          "base_uri": "https://localhost:8080/"
        },
        "id": "lVh2fdnCIxjk",
        "outputId": "cc68f09c-b206-4c52-fb24-76c5a698cf59"
      },
      "execution_count": 26,
      "outputs": [
        {
          "output_type": "stream",
          "name": "stdout",
          "text": [
            "7.5\n",
            "<class 'float'>\n"
          ]
        }
      ]
    },
    {
      "cell_type": "markdown",
      "source": [
        "Explicit type casting"
      ],
      "metadata": {
        "id": "x1GlT_XLI3aq"
      }
    },
    {
      "cell_type": "code",
      "source": [
        "# Converting a float to an integer\n",
        "x = 5.7\n",
        "y = int(x)  # Explicit type casting from float to int\n",
        "print(y)    # Output: 5\n",
        "(type(y))\n",
        "\n",
        "\n"
      ],
      "metadata": {
        "colab": {
          "base_uri": "https://localhost:8080/"
        },
        "id": "rM4H8WC0IcJ_",
        "outputId": "3e42488a-a10c-419d-e0f2-a2cbece78456"
      },
      "execution_count": 25,
      "outputs": [
        {
          "output_type": "stream",
          "name": "stdout",
          "text": [
            "5\n"
          ]
        },
        {
          "output_type": "execute_result",
          "data": {
            "text/plain": [
              "int"
            ]
          },
          "metadata": {},
          "execution_count": 25
        }
      ]
    },
    {
      "cell_type": "markdown",
      "source": [
        "Q6 How do conditional statements work in Python? Illustrate with examples\n",
        "\n",
        "Answer: if: Tests a condition, and if True, executes the associated block of code.\n",
        "if-else: Tests a condition and executes one of two blocks of code based on whether the condition is True or False.\n",
        "if-elif-else: Tests multiple conditions and executes the first block where the condition is True, or defaults to the else block if no conditions are True."
      ],
      "metadata": {
        "id": "J78O4HuPJGBA"
      }
    },
    {
      "cell_type": "markdown",
      "source": [
        "1 if statement ex:"
      ],
      "metadata": {
        "id": "ajY8bIe9JjeZ"
      }
    },
    {
      "cell_type": "code",
      "source": [
        "x = 10\n",
        "\n",
        "if x > 5:\n",
        "    print(\"x is greater than 5\")\n"
      ],
      "metadata": {
        "colab": {
          "base_uri": "https://localhost:8080/"
        },
        "id": "9ISGfo_LJoxD",
        "outputId": "9553da14-9abf-469b-907b-98f4a6203849"
      },
      "execution_count": 27,
      "outputs": [
        {
          "output_type": "stream",
          "name": "stdout",
          "text": [
            "x is greater than 5\n"
          ]
        }
      ]
    },
    {
      "cell_type": "markdown",
      "source": [
        "2 if-else statement ex:"
      ],
      "metadata": {
        "id": "wP7RzZgTJrra"
      }
    },
    {
      "cell_type": "code",
      "source": [
        "x = 3\n",
        "\n",
        "if x > 5:\n",
        "    print(\"x is greater than 5\")\n",
        "else:\n",
        "    print(\"x is not greater than 5\")\n"
      ],
      "metadata": {
        "colab": {
          "base_uri": "https://localhost:8080/"
        },
        "id": "Nu5uBzI2JvLr",
        "outputId": "a6cf1ecc-31ae-4fff-b91e-e227375a8178"
      },
      "execution_count": 28,
      "outputs": [
        {
          "output_type": "stream",
          "name": "stdout",
          "text": [
            "x is not greater than 5\n"
          ]
        }
      ]
    },
    {
      "cell_type": "markdown",
      "source": [
        "3 if-elif-else statement ex:"
      ],
      "metadata": {
        "id": "ArDWBxw7J7-F"
      }
    },
    {
      "cell_type": "code",
      "source": [
        "x = 7\n",
        "\n",
        "if x > 10:\n",
        "    print(\"x is greater than 10\")\n",
        "elif x == 7:\n",
        "    print(\"x is equal to 7\")\n",
        "else:\n",
        "    print(\"x is less than 7\")\n"
      ],
      "metadata": {
        "colab": {
          "base_uri": "https://localhost:8080/"
        },
        "id": "O4yT4cB3KEZ8",
        "outputId": "e432ab1f-c3fe-42d6-8f71-8c6f5a806fef"
      },
      "execution_count": 29,
      "outputs": [
        {
          "output_type": "stream",
          "name": "stdout",
          "text": [
            "x is equal to 7\n"
          ]
        }
      ]
    },
    {
      "cell_type": "markdown",
      "source": [
        "Q7  Describe the different types of loops in Python and their use cases with examples\n",
        "\n",
        "Answer:for loop: Best used when you know beforehand how many times you want to loop, or when iterating through a sequence or iterable.\n",
        "while loop: Best used when you don’t know the number of iterations in advance and want to loop until a condition is met.\n",
        "\n"
      ],
      "metadata": {
        "id": "68iOHeyMKMrT"
      }
    },
    {
      "cell_type": "markdown",
      "source": [
        "1 For loop ex:"
      ],
      "metadata": {
        "id": "ony-onnqK9DY"
      }
    },
    {
      "cell_type": "code",
      "source": [
        "fruits = [\"apple\", \"banana\", \"cherry\"]\n",
        "\n",
        "for fruit in fruits:\n",
        "    print(fruit)\n"
      ],
      "metadata": {
        "colab": {
          "base_uri": "https://localhost:8080/"
        },
        "id": "GCwbER0MK7Dz",
        "outputId": "5dbb0c4d-5f54-4ca7-c4ae-3cfbace2f3fc"
      },
      "execution_count": 30,
      "outputs": [
        {
          "output_type": "stream",
          "name": "stdout",
          "text": [
            "apple\n",
            "banana\n",
            "cherry\n"
          ]
        }
      ]
    },
    {
      "cell_type": "markdown",
      "source": [
        "2 While loop ex:"
      ],
      "metadata": {
        "id": "q8R3pLX-LIco"
      }
    },
    {
      "cell_type": "code",
      "source": [
        "x = 1\n",
        "\n",
        "while x <= 5:\n",
        "    print(x)\n",
        "    x += 1  # Increment x to avoid infinite loop\n"
      ],
      "metadata": {
        "colab": {
          "base_uri": "https://localhost:8080/"
        },
        "id": "VwziV1tcLK3y",
        "outputId": "adb9c7f8-ebc1-4ffc-bf9e-f5e511da3244"
      },
      "execution_count": 31,
      "outputs": [
        {
          "output_type": "stream",
          "name": "stdout",
          "text": [
            "1\n",
            "2\n",
            "3\n",
            "4\n",
            "5\n"
          ]
        }
      ]
    }
  ]
}